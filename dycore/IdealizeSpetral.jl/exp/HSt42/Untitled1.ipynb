{
 "cells": [
  {
   "cell_type": "code",
   "execution_count": 22,
   "id": "9fb2528f-f3ec-41bf-a5ad-9989b0c9ed8f",
   "metadata": {},
   "outputs": [
    {
     "name": "stdout",
     "output_type": "stream",
     "text": [
      "40"
     ]
    }
   ],
   "source": [
    "import JLD\n",
    "start = 0\n",
    "endday = 10 * 86400\n",
    "day_to_sec = 86400\n",
    "x = Int(div(endday-start - 1,day_to_sec/4) + 1)\n",
    "print(x)"
   ]
  },
  {
   "cell_type": "code",
   "execution_count": null,
   "id": "30aea171-29f8-4bbe-bd4b-5e08a010d548",
   "metadata": {},
   "outputs": [],
   "source": []
  }
 ],
 "metadata": {
  "kernelspec": {
   "display_name": "Julia 1.8.5",
   "language": "julia",
   "name": "julia-1.8"
  },
  "language_info": {
   "file_extension": ".jl",
   "mimetype": "application/julia",
   "name": "julia",
   "version": "1.8.5"
  }
 },
 "nbformat": 4,
 "nbformat_minor": 5
}
